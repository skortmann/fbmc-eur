{
 "cells": [
  {
   "cell_type": "code",
   "execution_count": 1,
   "metadata": {},
   "outputs": [],
   "source": [
    "import pandas as pd\n",
    "import numpy as np\n",
    "\n",
    "from create_dataframe import *\n",
    "from bidding_zones import BIDDING_ZONES_CWE"
   ]
  },
  {
   "cell_type": "code",
   "execution_count": 2,
   "metadata": {},
   "outputs": [
    {
     "name": "stdout",
     "output_type": "stream",
     "text": [
      "Finished scheduled exchanges\n",
      "Finished residual loads\n",
      "Finished day ahead prices\n"
     ]
    }
   ],
   "source": [
    "df_scheduled_exchanges = create_dataframe_scheduled_exchanges(countries_scheduled_exchanges=list(BIDDING_ZONES_CWE.keys()))\n",
    "df_residual_load = create_dataframe_residual_load(countries_load=list(BIDDING_ZONES_CWE.keys()))\n",
    "df_day_ahead_prices = create_dataframe_day_ahead_prices(countries_day_ahead_prices=list(BIDDING_ZONES_CWE.keys()))"
   ]
  },
  {
   "cell_type": "code",
   "execution_count": 3,
   "metadata": {},
   "outputs": [
    {
     "data": {
      "text/plain": [
       "Index(['day_ahead_prices_AT', 'day_ahead_prices_BE', 'day_ahead_prices_FR',\n",
       "       'day_ahead_prices_DE_AT_LU', 'day_ahead_prices_DE_LU',\n",
       "       'day_ahead_prices_NL', 'mean_price', 'price_spread_total',\n",
       "       'price_spread_AT', 'SDM_AT', 'price_spread_BE', 'SDM_BE',\n",
       "       'price_spread_FR', 'SDM_FR', 'price_spread_DE_AT_LU', 'SDM_DE_AT_LU',\n",
       "       'price_spread_DE_LU', 'SDM_DE_LU', 'price_spread_NL', 'SDM_NL',\n",
       "       'relative_price_spread'],\n",
       "      dtype='object')"
      ]
     },
     "execution_count": 3,
     "metadata": {},
     "output_type": "execute_result"
    }
   ],
   "source": [
    "#df_scheduled_exchanges.columns\n",
    "#df_residual_load.columns\n",
    "df_day_ahead_prices.columns"
   ]
  },
  {
   "cell_type": "code",
   "execution_count": null,
   "metadata": {},
   "outputs": [],
   "source": []
  },
  {
   "cell_type": "code",
   "execution_count": 4,
   "metadata": {},
   "outputs": [],
   "source": [
    "\"Machine learning modules\"\n",
    "from sklearn.ensemble import RandomForestRegressor, GradientBoostingRegressor\n",
    "from sklearn.linear_model import LinearRegression, Lasso, Ridge, ElasticNet, SGDRegressor\n",
    "from sklearn.svm import SVR, LinearSVR\n",
    "from sklearn.neighbors import KNeighborsRegressor\n",
    "from sklearn.metrics import mean_squared_error, mean_absolute_error, r2_score\n",
    "from catboost import CatBoostRegressor\n",
    "from sklearn.cluster import KMeans"
   ]
  },
  {
   "cell_type": "code",
   "execution_count": 5,
   "metadata": {},
   "outputs": [],
   "source": [
    "df_total2 = pd.DataFrame()\n",
    "\n",
    "df_total2 = pd.concat([df_scheduled_exchanges, df_residual_load, df_day_ahead_prices], axis=1)\n",
    "\n",
    "df_total2 = df_total2.fillna(0)"
   ]
  },
  {
   "cell_type": "code",
   "execution_count": 6,
   "metadata": {},
   "outputs": [],
   "source": [
    "#print(df_total2)\n",
    "#df_total2.dtypes\n",
    "#df_total2.columns"
   ]
  },
  {
   "cell_type": "code",
   "execution_count": null,
   "metadata": {},
   "outputs": [],
   "source": []
  },
  {
   "cell_type": "code",
   "execution_count": 7,
   "metadata": {},
   "outputs": [
    {
     "data": {
      "text/plain": [
       "LinearRegression()"
      ]
     },
     "execution_count": 7,
     "metadata": {},
     "output_type": "execute_result"
    }
   ],
   "source": [
    "modelLR2 = LinearRegression()\n",
    "modelLR2.fit(df_total2[['scheduled_exchanges_AT_DE_LU',\n",
    "       'scheduled_exchanges_BE_FR', 'scheduled_exchanges_BE_DE_LU',\n",
    "       'scheduled_exchanges_BE_NL', 'scheduled_exchanges_FR_BE',\n",
    "       'scheduled_exchanges_FR_DE_AT_LU', 'scheduled_exchanges_FR_DE_LU',\n",
    "       'scheduled_exchanges_DE_AT_LU_FR', 'scheduled_exchanges_DE_AT_LU_NL',\n",
    "       'scheduled_exchanges_DE_LU_AT', 'scheduled_exchanges_DE_LU_BE',\n",
    "       'scheduled_exchanges_DE_LU_FR', 'scheduled_exchanges_DE_LU_NL',\n",
    "       'scheduled_exchanges_NL_BE', 'scheduled_exchanges_NL_DE_AT_LU',\n",
    "       'scheduled_exchanges_NL_DE_LU']],df_total2['price_spread_total'])"
   ]
  },
  {
   "cell_type": "code",
   "execution_count": 8,
   "metadata": {},
   "outputs": [
    {
     "name": "stdout",
     "output_type": "stream",
     "text": [
      "                               Name      Coef\n",
      "0      scheduled_exchanges_AT_DE_LU -0.000836\n",
      "1         scheduled_exchanges_BE_FR  0.003746\n",
      "2      scheduled_exchanges_BE_DE_LU  0.000983\n",
      "3         scheduled_exchanges_BE_NL -0.000769\n",
      "4         scheduled_exchanges_FR_BE  0.002705\n",
      "5   scheduled_exchanges_FR_DE_AT_LU -0.002472\n",
      "6      scheduled_exchanges_FR_DE_LU -0.002376\n",
      "7   scheduled_exchanges_DE_AT_LU_FR  0.003522\n",
      "8   scheduled_exchanges_DE_AT_LU_NL  0.002286\n",
      "9      scheduled_exchanges_DE_LU_AT  0.003553\n",
      "10     scheduled_exchanges_DE_LU_BE  0.003783\n",
      "11     scheduled_exchanges_DE_LU_FR  0.001697\n",
      "12     scheduled_exchanges_DE_LU_NL  0.000376\n",
      "13        scheduled_exchanges_NL_BE -0.000290\n",
      "14  scheduled_exchanges_NL_DE_AT_LU  0.006046\n",
      "15     scheduled_exchanges_NL_DE_LU -0.001875\n"
     ]
    }
   ],
   "source": [
    "df5=['scheduled_exchanges_AT_DE_LU',\n",
    "       'scheduled_exchanges_BE_FR', 'scheduled_exchanges_BE_DE_LU',\n",
    "       'scheduled_exchanges_BE_NL', 'scheduled_exchanges_FR_BE',\n",
    "       'scheduled_exchanges_FR_DE_AT_LU', 'scheduled_exchanges_FR_DE_LU',\n",
    "       'scheduled_exchanges_DE_AT_LU_FR', 'scheduled_exchanges_DE_AT_LU_NL',\n",
    "       'scheduled_exchanges_DE_LU_AT', 'scheduled_exchanges_DE_LU_BE',\n",
    "       'scheduled_exchanges_DE_LU_FR', 'scheduled_exchanges_DE_LU_NL',\n",
    "       'scheduled_exchanges_NL_BE', 'scheduled_exchanges_NL_DE_AT_LU',\n",
    "       'scheduled_exchanges_NL_DE_LU']\n",
    "\n",
    "\n",
    "df6=pd.DataFrame()\n",
    "\n",
    "df6[\"Name\"] = df5\n",
    "df6[\"Coef\"] = modelLR2.coef_\n",
    "print(df6)"
   ]
  },
  {
   "cell_type": "code",
   "execution_count": 9,
   "metadata": {},
   "outputs": [],
   "source": [
    "df_total = pd.DataFrame()\n",
    "\n",
    "df_summed_exchanges = df_scheduled_exchanges.sum(axis=1, skipna=True, numeric_only=True)\n",
    "\n",
    "df_total = pd.concat([df_summed_exchanges, df_residual_load, df_day_ahead_prices], axis=1)"
   ]
  },
  {
   "cell_type": "code",
   "execution_count": 17,
   "metadata": {},
   "outputs": [],
   "source": [
    "#print(df_total)"
   ]
  },
  {
   "cell_type": "code",
   "execution_count": 11,
   "metadata": {},
   "outputs": [],
   "source": [
    "df_total.drop(['SDM_FR', 'SDM_AT', 'SDM_BE', 'SDM_NL', 'SDM_DE_LU', 'SDM_DE_AT_LU'], axis=1, inplace=True)"
   ]
  },
  {
   "cell_type": "code",
   "execution_count": 24,
   "metadata": {},
   "outputs": [
    {
     "data": {
      "text/plain": [
       "Index(['sum_exchanges', 'load_AT', 'non_dispatchable_AT', 'residual_load_AT',\n",
       "       'load_BE', 'non_dispatchable_BE', 'residual_load_BE', 'load_FR',\n",
       "       'non_dispatchable_FR', 'residual_load_FR', 'load_DE_AT_LU',\n",
       "       'non_dispatchable_DE_AT_LU', 'residual_load_DE_AT_LU', 'load_DE_LU',\n",
       "       'non_dispatchable_DE_LU', 'residual_load_DE_LU', 'load_NL',\n",
       "       'non_dispatchable_NL', 'residual_load_NL', 'day_ahead_prices_AT',\n",
       "       'day_ahead_prices_BE', 'day_ahead_prices_FR',\n",
       "       'day_ahead_prices_DE_AT_LU', 'day_ahead_prices_DE_LU',\n",
       "       'day_ahead_prices_NL', 'mean_price', 'price_spread_total',\n",
       "       'price_spread_AT', 'price_spread_BE', 'price_spread_FR',\n",
       "       'price_spread_DE_AT_LU', 'price_spread_DE_LU', 'price_spread_NL',\n",
       "       'relative_price_spread'],\n",
       "      dtype='object')"
      ]
     },
     "execution_count": 24,
     "metadata": {},
     "output_type": "execute_result"
    }
   ],
   "source": [
    "df_total.rename(columns={df_total.columns[0]: \"sum_exchanges\"}, inplace=True)\n",
    "#print(df_total)\n",
    "\n",
    "df_total = df_total.fillna(0)\n",
    "#print(df_total)\n",
    "df_total.columns"
   ]
  },
  {
   "cell_type": "code",
   "execution_count": 33,
   "metadata": {},
   "outputs": [
    {
     "data": {
      "text/plain": [
       "Index(['scheduled_exchanges_AT_DE_LU', 'scheduled_exchanges_BE_FR',\n",
       "       'scheduled_exchanges_BE_DE_LU', 'scheduled_exchanges_BE_NL',\n",
       "       'scheduled_exchanges_FR_BE', 'scheduled_exchanges_FR_DE_AT_LU',\n",
       "       'scheduled_exchanges_FR_DE_LU', 'scheduled_exchanges_DE_AT_LU_FR',\n",
       "       'scheduled_exchanges_DE_AT_LU_NL', 'scheduled_exchanges_DE_LU_AT',\n",
       "       'scheduled_exchanges_DE_LU_BE', 'scheduled_exchanges_DE_LU_FR',\n",
       "       'scheduled_exchanges_DE_LU_NL', 'scheduled_exchanges_NL_BE',\n",
       "       'scheduled_exchanges_NL_DE_AT_LU', 'scheduled_exchanges_NL_DE_LU',\n",
       "       'load_AT', 'non_dispatchable_AT', 'residual_load_AT', 'load_BE',\n",
       "       'non_dispatchable_BE', 'residual_load_BE', 'load_FR',\n",
       "       'non_dispatchable_FR', 'residual_load_FR', 'load_DE_AT_LU',\n",
       "       'non_dispatchable_DE_AT_LU', 'residual_load_DE_AT_LU', 'load_DE_LU',\n",
       "       'non_dispatchable_DE_LU', 'residual_load_DE_LU', 'load_NL',\n",
       "       'non_dispatchable_NL', 'residual_load_NL', 'day_ahead_prices_AT',\n",
       "       'day_ahead_prices_BE', 'day_ahead_prices_FR',\n",
       "       'day_ahead_prices_DE_AT_LU', 'day_ahead_prices_DE_LU',\n",
       "       'day_ahead_prices_NL', 'mean_price', 'price_spread_total',\n",
       "       'price_spread_AT', 'SDM_AT', 'price_spread_BE', 'SDM_BE',\n",
       "       'price_spread_FR', 'SDM_FR', 'price_spread_DE_AT_LU', 'SDM_DE_AT_LU',\n",
       "       'price_spread_DE_LU', 'SDM_DE_LU', 'price_spread_NL', 'SDM_NL',\n",
       "       'relative_price_spread'],\n",
       "      dtype='object')"
      ]
     },
     "execution_count": 33,
     "metadata": {},
     "output_type": "execute_result"
    }
   ],
   "source": [
    "#df_total.columns\n",
    "df_total2.columns\n",
    "#df_total[\"sum_exchanges\"].plot()"
   ]
  },
  {
   "cell_type": "code",
   "execution_count": 34,
   "metadata": {},
   "outputs": [],
   "source": [
    "modelLR3 = LinearRegression()\n",
    "modelLR3.fit(df_total2[['residual_load_AT',\n",
    "       'residual_load_BE', 'residual_load_FR',\n",
    "       'residual_load_DE_AT_LU', 'residual_load_DE_LU',\n",
    "       'residual_load_NL']],df_total['sum_exchanges'])\n",
    "\n",
    "\n",
    "df8=['residual_load_AT',\n",
    "       'residual_load_BE', 'residual_load_FR',\n",
    "       'residual_load_DE_AT_LU', 'residual_load_DE_LU',\n",
    "       'residual_load_NL']\n"
   ]
  },
  {
   "cell_type": "code",
   "execution_count": 36,
   "metadata": {},
   "outputs": [
    {
     "name": "stdout",
     "output_type": "stream",
     "text": [
      "                     Name      Coef\n",
      "0        residual_load_AT  0.066612\n",
      "1        residual_load_BE -0.174653\n",
      "2        residual_load_FR  0.143952\n",
      "3  residual_load_DE_AT_LU -0.002468\n",
      "4     residual_load_DE_LU  0.016581\n",
      "5        residual_load_NL -0.024605\n"
     ]
    }
   ],
   "source": [
    "df9=pd.DataFrame()\n",
    "\n",
    "df9[\"Name\"] = df8\n",
    "df9[\"Coef\"] = modelLR3.coef_\n",
    "print(df9)"
   ]
  },
  {
   "cell_type": "code",
   "execution_count": 37,
   "metadata": {},
   "outputs": [
    {
     "data": {
      "text/plain": [
       "<AxesSubplot:>"
      ]
     },
     "execution_count": 37,
     "metadata": {},
     "output_type": "execute_result"
    },
    {
     "data": {
      "image/png": "[encoded data removed]",
      "text/plain": [
       "<Figure size 432x288 with 1 Axes>"
      ]
     },
     "metadata": {
      "needs_background": "light"
     },
     "output_type": "display_data"
    }
   ],
   "source": []
  },
  {
   "cell_type": "code",
   "execution_count": 14,
   "metadata": {},
   "outputs": [
    {
     "data": {
      "text/plain": [
       "LinearRegression()"
      ]
     },
     "execution_count": 14,
     "metadata": {},
     "output_type": "execute_result"
    }
   ],
   "source": [
    "modelLR = LinearRegression()\n",
    "modelLR.fit(df1[['day_ahead_prices_BE', \n",
    "       'day_ahead_prices_FR',\n",
    "       'day_ahead_prices_DE_AT_LU', \n",
    "       'day_ahead_prices_DE_LU',\n",
    "       'day_ahead_prices_NL']],df1['sum_exchanges'])\n",
    "#df1.columns\n"
   ]
  },
  {
   "cell_type": "code",
   "execution_count": 15,
   "metadata": {},
   "outputs": [
    {
     "name": "stdout",
     "output_type": "stream",
     "text": [
      "Empty DataFrame\n",
      "Columns: []\n",
      "Index: []\n",
      "                        Name        Coef\n",
      "0        day_ahead_prices_BE   -5.784297\n",
      "1        day_ahead_prices_FR  -24.815780\n",
      "2  day_ahead_prices_DE_AT_LU   44.108018\n",
      "3     day_ahead_prices_DE_LU   -3.906442\n",
      "4        day_ahead_prices_NL  116.863951\n"
     ]
    }
   ],
   "source": [
    "\n",
    "DAP=['day_ahead_prices_BE',\n",
    "       'day_ahead_prices_FR',\n",
    "       'day_ahead_prices_DE_AT_LU', \n",
    "       'day_ahead_prices_DE_LU',\n",
    "       'day_ahead_prices_NL']\n",
    "\n",
    "\n",
    "df2=pd.DataFrame()\n",
    "\n",
    "print(df2)\n",
    "\n",
    "df2[\"Name\"] = DAP\n",
    "df2[\"Coef\"] = modelLR.coef_\n",
    "print(df2)"
   ]
  },
  {
   "cell_type": "code",
   "execution_count": null,
   "metadata": {},
   "outputs": [],
   "source": []
  },
  {
   "cell_type": "code",
   "execution_count": 16,
   "metadata": {},
   "outputs": [],
   "source": [
    "#print(df1)\n",
    "#df1.describe()\n"
   ]
  }
 ],
 "metadata": {
  "interpreter": {
   "hash": "32ca62a866342f917d4262b16d40204afe1ced66c4796a908b602c17cb9eb4cd"
  },
  "kernelspec": {
   "display_name": "Python 3.8.8 64-bit ('boost': conda)",
   "language": "python",
   "name": "python3"
  },
  "language_info": {
   "codemirror_mode": {
    "name": "ipython",
    "version": 3
   },
   "file_extension": ".py",
   "mimetype": "text/x-python",
   "name": "python",
   "nbconvert_exporter": "python",
   "pygments_lexer": "ipython3",
   "version": "3.9.7"
  },
  "orig_nbformat": 4
 },
 "nbformat": 4,
 "nbformat_minor": 2
}
