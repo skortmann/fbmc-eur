{
 "cells": [
  {
   "cell_type": "code",
   "execution_count": 664,
   "metadata": {},
   "outputs": [],
   "source": [
    "import pandas as pd\n",
    "import numpy as np\n",
    "import matplotlib.pyplot as plt\n",
    "import seaborn as sns\n",
    "import warnings\n",
    "pd.set_option('display.max_columns', None)\n",
    "warnings.filterwarnings(\"ignore\")\n",
    "from tslearn.clustering import TimeSeriesKMeans, KShape\n",
    "from tslearn.datasets import CachedDatasets\n",
    "from tslearn.preprocessing import TimeSeriesScalerMeanVariance, \\\n",
    "    TimeSeriesResampler\n",
    "from sklearn.ensemble import RandomForestRegressor, GradientBoostingRegressor\n",
    "from sklearn.linear_model import LinearRegression, Lasso, Ridge, ElasticNet, SGDRegressor\n",
    "from sklearn.svm import SVR, LinearSVR\n",
    "from sklearn.neighbors import KNeighborsRegressor\n",
    "from sklearn.metrics import mean_squared_error, mean_absolute_error, r2_score\n",
    "from catboost import CatBoostRegressor\n",
    "from sklearn.cluster import KMeans\n",
    "from kneed import DataGenerator, KneeLocator\n",
    "from sklearn.preprocessing import StandardScaler\n",
    "from sklearn.tree import DecisionTreeRegressor, plot_tree"
   ]
  },
  {
   "cell_type": "code",
   "execution_count": 665,
   "metadata": {},
   "outputs": [],
   "source": [
    "df1 = pd.read_feather(\"Total_BG.feather\")"
   ]
  },
  {
   "cell_type": "code",
   "execution_count": 666,
   "metadata": {},
   "outputs": [
    {
     "name": "stdout",
     "output_type": "stream",
     "text": [
      "                           Solar  Wind Onshore  Renewable Total   Load_  \\\n",
      "Date                                                                      \n",
      "2020-01-01 01:00:00+02:00    0.0           0.0              0.0  4243.0   \n",
      "2020-01-01 02:00:00+02:00    0.0         323.0            323.0  4063.0   \n",
      "2020-01-01 03:00:00+02:00    0.0         306.0            306.0  3924.0   \n",
      "2020-01-01 04:00:00+02:00    0.0         351.0            351.0  3838.0   \n",
      "2020-01-01 05:00:00+02:00    0.0         431.0            431.0  3795.0   \n",
      "...                          ...           ...              ...     ...   \n",
      "2021-12-31 20:00:00+02:00    0.0         137.0            137.0  4790.0   \n",
      "2021-12-31 21:00:00+02:00    0.0         145.0            145.0  4343.0   \n",
      "2021-12-31 22:00:00+02:00    0.0         150.0            150.0  4196.0   \n",
      "2021-12-31 23:00:00+02:00    0.0         136.0            136.0  4147.0   \n",
      "2022-01-01 00:00:00+02:00    0.0         219.0            219.0  4181.0   \n",
      "\n",
      "                           Prices_BG  Forecasted Load  Net_Position_BG  \\\n",
      "Date                                                                     \n",
      "2020-01-01 01:00:00+02:00      76.26           4444.0           2222.0   \n",
      "2020-01-01 02:00:00+02:00      68.57           4234.0           2117.0   \n",
      "2020-01-01 03:00:00+02:00      58.99           4064.0           2032.0   \n",
      "2020-01-01 04:00:00+02:00      52.51           3942.0           1971.0   \n",
      "2020-01-01 05:00:00+02:00      57.23           3882.0           1941.0   \n",
      "...                              ...              ...              ...   \n",
      "2021-12-31 20:00:00+02:00     221.01           4839.0            744.0   \n",
      "2021-12-31 21:00:00+02:00     205.37           4602.0            756.0   \n",
      "2021-12-31 22:00:00+02:00     194.35           4558.0            700.0   \n",
      "2021-12-31 23:00:00+02:00     205.38           4355.0            737.0   \n",
      "2022-01-01 00:00:00+02:00     113.39           4351.0            811.0   \n",
      "\n",
      "                           Solar_FC  Wind Onshore_FC  \n",
      "Date                                                  \n",
      "2020-01-01 01:00:00+02:00       0.0            362.0  \n",
      "2020-01-01 02:00:00+02:00       0.0            318.0  \n",
      "2020-01-01 03:00:00+02:00       0.0            370.0  \n",
      "2020-01-01 04:00:00+02:00       0.0            404.0  \n",
      "2020-01-01 05:00:00+02:00       0.0            423.0  \n",
      "...                             ...              ...  \n",
      "2021-12-31 20:00:00+02:00       0.0            204.0  \n",
      "2021-12-31 21:00:00+02:00       0.0            211.0  \n",
      "2021-12-31 22:00:00+02:00       0.0            204.0  \n",
      "2021-12-31 23:00:00+02:00       0.0            157.0  \n",
      "2022-01-01 00:00:00+02:00       0.0            186.0  \n",
      "\n",
      "[17544 rows x 9 columns]\n"
     ]
    }
   ],
   "source": [
    "df1 = df1[df1[\"Date\"]>=\"20200101\"]\n",
    "df1 = df1[df1[\"Date\"]<=\"20220101\"]\n",
    "df1.set_index(\"Date\", drop=True, inplace=True)\n",
    "df1.index = pd.to_datetime(df1.index)"
   ]
  },
  {
   "cell_type": "code",
   "execution_count": 667,
   "metadata": {},
   "outputs": [],
   "source": [
    "Before_MC = df1[df1.index <=\"20210511\"]"
   ]
  },
  {
   "cell_type": "code",
   "execution_count": 668,
   "metadata": {},
   "outputs": [],
   "source": [
    "After_MC = df1[df1.index>=\"20210511\"]"
   ]
  },
  {
   "cell_type": "code",
   "execution_count": 669,
   "metadata": {},
   "outputs": [],
   "source": [
    "Before_MC_X_train=Before_MC[Before_MC.index<=\"20200511\"].drop([\"Prices_BG\"],axis=1)\n",
    "Before_MC_y_train=Before_MC[Before_MC.index<=\"20200511\"][\"Prices_BG\"]\n",
    "\n",
    "Before_MC_X_test=Before_MC[Before_MC.index>=\"20200511\"].drop([\"Prices_BG\"],axis=1)\n",
    "Before_MC_y_test=Before_MC[Before_MC.index>=\"20200511\"][\"Prices_BG\"]\n",
    "\n",
    "After_MC_X_train=After_MC[After_MC.index<=\"20210511\"].drop([\"Prices_BG\"],axis=1)\n",
    "After_MC_y_train=After_MC[After_MC.index<=\"20210511\"][\"Prices_BG\"]\n",
    "\n",
    "After_MC_X_test=After_MC[After_MC.index>=\"20210511\"].drop([\"Prices_BG\"],axis=1)\n",
    "After_MC_y_test=After_MC[After_MC.index>=\"20210511\"][\"Prices_BG\"]"
   ]
  },
  {
   "cell_type": "code",
   "execution_count": 670,
   "metadata": {},
   "outputs": [],
   "source": [
    "# Before_MC_X_train.index = pd.to_numeric(Before_MC_X_train.index)\n",
    "# Before_MC_X_test.index = pd.to_numeric(Before_MC_X_test.index)\n",
    "\n",
    "# After_MC_X_train.index = pd.to_numeric(After_MC_X_train.index)\n",
    "# After_MC_X_test.index = pd.to_numeric(After_MC_X_test.index)\n"
   ]
  },
  {
   "cell_type": "code",
   "execution_count": 671,
   "metadata": {},
   "outputs": [
    {
     "name": "stdout",
     "output_type": "stream",
     "text": [
      "49733.15303432642\n",
      "42.93279327070487\n",
      "223.00931154175248\n"
     ]
    }
   ],
   "source": [
    "modelLR = LinearRegression()\n",
    "\n",
    "# print(Before_MC_X_train)\n",
    "# print(Before_MC_y_train)\n",
    "\n",
    "modelLR.fit(Before_MC_X_train,Before_MC_y_train)\n",
    "prediction = modelLR.predict(Before_MC_X_test)\n",
    "print(mean_squared_error(Before_MC_y_test, prediction))\n",
    "print(mean_absolute_error(Before_MC_y_test, prediction))\n",
    "print(np.sqrt(mean_squared_error(Before_MC_y_test, prediction)))\n",
    "\n",
    "prediction = pd.Series(prediction, index=Before_MC_y_test.index)\n",
    "Before_MC_y_test = pd.concat([Before_MC_y_test, prediction], axis=1)\n",
    "Before_MC_y_test.plot()"
   ]
  },
  {
   "cell_type": "code",
   "execution_count": 672,
   "metadata": {},
   "outputs": [
    {
     "data": {
      "text/plain": [
       "-0.17789913377770983"
      ]
     },
     "execution_count": 672,
     "metadata": {},
     "output_type": "execute_result"
    }
   ],
   "source": [
    "modelLR.score(Before_MC_X_test,Before_MC_y_test)\n",
    "# modelLR.score(Before_MC_X_train,Before_MC_y_train)\n"
   ]
  },
  {
   "cell_type": "code",
   "execution_count": 673,
   "metadata": {},
   "outputs": [
    {
     "data": {
      "text/plain": [
       "LinearRegression()"
      ]
     },
     "execution_count": 673,
     "metadata": {},
     "output_type": "execute_result"
    }
   ],
   "source": [
    "modelLR1 = LinearRegression()\n",
    "\n",
    "modelLR1.fit(After_MC_X_train,After_MC_y_train)"
   ]
  },
  {
   "cell_type": "code",
   "execution_count": 674,
   "metadata": {},
   "outputs": [
    {
     "data": {
      "text/plain": [
       "-0.7495838857653683"
      ]
     },
     "execution_count": 674,
     "metadata": {},
     "output_type": "execute_result"
    }
   ],
   "source": [
    "modelLR1.score(After_MC_X_test,After_MC_y_test)"
   ]
  },
  {
   "cell_type": "code",
   "execution_count": 675,
   "metadata": {},
   "outputs": [
    {
     "data": {
      "text/html": [
       "<div>\n",
       "<style scoped>\n",
       "    .dataframe tbody tr th:only-of-type {\n",
       "        vertical-align: middle;\n",
       "    }\n",
       "\n",
       "    .dataframe tbody tr th {\n",
       "        vertical-align: top;\n",
       "    }\n",
       "\n",
       "    .dataframe thead th {\n",
       "        text-align: right;\n",
       "    }\n",
       "</style>\n",
       "<table border=\"1\" class=\"dataframe\">\n",
       "  <thead>\n",
       "    <tr style=\"text-align: right;\">\n",
       "      <th></th>\n",
       "      <th>Solar</th>\n",
       "      <th>Wind Onshore</th>\n",
       "      <th>Renewable Total</th>\n",
       "      <th>Load_</th>\n",
       "      <th>Forecasted Load</th>\n",
       "      <th>Net_Position_BG</th>\n",
       "      <th>Solar_FC</th>\n",
       "      <th>Wind Onshore_FC</th>\n",
       "    </tr>\n",
       "    <tr>\n",
       "      <th>Date</th>\n",
       "      <th></th>\n",
       "      <th></th>\n",
       "      <th></th>\n",
       "      <th></th>\n",
       "      <th></th>\n",
       "      <th></th>\n",
       "      <th></th>\n",
       "      <th></th>\n",
       "    </tr>\n",
       "  </thead>\n",
       "  <tbody>\n",
       "    <tr>\n",
       "      <th>2021-05-11 00:00:00+02:00</th>\n",
       "      <td>0.0</td>\n",
       "      <td>30.0</td>\n",
       "      <td>30.0</td>\n",
       "      <td>3126.0</td>\n",
       "      <td>3079.0</td>\n",
       "      <td>0.0</td>\n",
       "      <td>0.0</td>\n",
       "      <td>7.0</td>\n",
       "    </tr>\n",
       "  </tbody>\n",
       "</table>\n",
       "</div>"
      ],
      "text/plain": [
       "                           Solar  Wind Onshore  Renewable Total   Load_  \\\n",
       "Date                                                                      \n",
       "2021-05-11 00:00:00+02:00    0.0          30.0             30.0  3126.0   \n",
       "\n",
       "                           Forecasted Load  Net_Position_BG  Solar_FC  \\\n",
       "Date                                                                    \n",
       "2021-05-11 00:00:00+02:00           3079.0              0.0       0.0   \n",
       "\n",
       "                           Wind Onshore_FC  \n",
       "Date                                        \n",
       "2021-05-11 00:00:00+02:00              7.0  "
      ]
     },
     "execution_count": 675,
     "metadata": {},
     "output_type": "execute_result"
    }
   ],
   "source": [
    "After_MC_X_train"
   ]
  },
  {
   "cell_type": "code",
   "execution_count": 676,
   "metadata": {
    "scrolled": true
   },
   "outputs": [
    {
     "data": {
      "text/html": [
       "<div>\n",
       "<style scoped>\n",
       "    .dataframe tbody tr th:only-of-type {\n",
       "        vertical-align: middle;\n",
       "    }\n",
       "\n",
       "    .dataframe tbody tr th {\n",
       "        vertical-align: top;\n",
       "    }\n",
       "\n",
       "    .dataframe thead th {\n",
       "        text-align: right;\n",
       "    }\n",
       "</style>\n",
       "<table border=\"1\" class=\"dataframe\">\n",
       "  <thead>\n",
       "    <tr style=\"text-align: right;\">\n",
       "      <th></th>\n",
       "      <th>Solar</th>\n",
       "      <th>Wind Onshore</th>\n",
       "      <th>Renewable Total</th>\n",
       "      <th>Load_</th>\n",
       "      <th>Forecasted Load</th>\n",
       "      <th>Net_Position_BG</th>\n",
       "      <th>Solar_FC</th>\n",
       "      <th>Wind Onshore_FC</th>\n",
       "    </tr>\n",
       "    <tr>\n",
       "      <th>Date</th>\n",
       "      <th></th>\n",
       "      <th></th>\n",
       "      <th></th>\n",
       "      <th></th>\n",
       "      <th></th>\n",
       "      <th></th>\n",
       "      <th></th>\n",
       "      <th></th>\n",
       "    </tr>\n",
       "  </thead>\n",
       "  <tbody>\n",
       "    <tr>\n",
       "      <th>2021-05-11 00:00:00+02:00</th>\n",
       "      <td>0.0</td>\n",
       "      <td>30.0</td>\n",
       "      <td>30.0</td>\n",
       "      <td>3126.0</td>\n",
       "      <td>3079.0</td>\n",
       "      <td>0.0</td>\n",
       "      <td>0.0</td>\n",
       "      <td>7.0</td>\n",
       "    </tr>\n",
       "    <tr>\n",
       "      <th>2021-05-11 01:00:00+02:00</th>\n",
       "      <td>0.0</td>\n",
       "      <td>30.0</td>\n",
       "      <td>30.0</td>\n",
       "      <td>2992.0</td>\n",
       "      <td>2978.0</td>\n",
       "      <td>0.0</td>\n",
       "      <td>0.0</td>\n",
       "      <td>4.0</td>\n",
       "    </tr>\n",
       "    <tr>\n",
       "      <th>2021-05-11 02:00:00+02:00</th>\n",
       "      <td>0.0</td>\n",
       "      <td>26.0</td>\n",
       "      <td>26.0</td>\n",
       "      <td>2956.0</td>\n",
       "      <td>2937.0</td>\n",
       "      <td>0.0</td>\n",
       "      <td>0.0</td>\n",
       "      <td>2.0</td>\n",
       "    </tr>\n",
       "    <tr>\n",
       "      <th>2021-05-11 03:00:00+02:00</th>\n",
       "      <td>0.0</td>\n",
       "      <td>23.0</td>\n",
       "      <td>23.0</td>\n",
       "      <td>2987.0</td>\n",
       "      <td>2942.0</td>\n",
       "      <td>0.0</td>\n",
       "      <td>0.0</td>\n",
       "      <td>1.0</td>\n",
       "    </tr>\n",
       "    <tr>\n",
       "      <th>2021-05-11 04:00:00+02:00</th>\n",
       "      <td>0.0</td>\n",
       "      <td>25.0</td>\n",
       "      <td>25.0</td>\n",
       "      <td>3140.0</td>\n",
       "      <td>3024.0</td>\n",
       "      <td>0.0</td>\n",
       "      <td>0.0</td>\n",
       "      <td>1.0</td>\n",
       "    </tr>\n",
       "    <tr>\n",
       "      <th>...</th>\n",
       "      <td>...</td>\n",
       "      <td>...</td>\n",
       "      <td>...</td>\n",
       "      <td>...</td>\n",
       "      <td>...</td>\n",
       "      <td>...</td>\n",
       "      <td>...</td>\n",
       "      <td>...</td>\n",
       "    </tr>\n",
       "    <tr>\n",
       "      <th>2021-12-31 20:00:00+02:00</th>\n",
       "      <td>0.0</td>\n",
       "      <td>137.0</td>\n",
       "      <td>137.0</td>\n",
       "      <td>4790.0</td>\n",
       "      <td>4839.0</td>\n",
       "      <td>744.0</td>\n",
       "      <td>0.0</td>\n",
       "      <td>204.0</td>\n",
       "    </tr>\n",
       "    <tr>\n",
       "      <th>2021-12-31 21:00:00+02:00</th>\n",
       "      <td>0.0</td>\n",
       "      <td>145.0</td>\n",
       "      <td>145.0</td>\n",
       "      <td>4343.0</td>\n",
       "      <td>4602.0</td>\n",
       "      <td>756.0</td>\n",
       "      <td>0.0</td>\n",
       "      <td>211.0</td>\n",
       "    </tr>\n",
       "    <tr>\n",
       "      <th>2021-12-31 22:00:00+02:00</th>\n",
       "      <td>0.0</td>\n",
       "      <td>150.0</td>\n",
       "      <td>150.0</td>\n",
       "      <td>4196.0</td>\n",
       "      <td>4558.0</td>\n",
       "      <td>700.0</td>\n",
       "      <td>0.0</td>\n",
       "      <td>204.0</td>\n",
       "    </tr>\n",
       "    <tr>\n",
       "      <th>2021-12-31 23:00:00+02:00</th>\n",
       "      <td>0.0</td>\n",
       "      <td>136.0</td>\n",
       "      <td>136.0</td>\n",
       "      <td>4147.0</td>\n",
       "      <td>4355.0</td>\n",
       "      <td>737.0</td>\n",
       "      <td>0.0</td>\n",
       "      <td>157.0</td>\n",
       "    </tr>\n",
       "    <tr>\n",
       "      <th>2022-01-01 00:00:00+02:00</th>\n",
       "      <td>0.0</td>\n",
       "      <td>219.0</td>\n",
       "      <td>219.0</td>\n",
       "      <td>4181.0</td>\n",
       "      <td>4351.0</td>\n",
       "      <td>811.0</td>\n",
       "      <td>0.0</td>\n",
       "      <td>186.0</td>\n",
       "    </tr>\n",
       "  </tbody>\n",
       "</table>\n",
       "<p>5641 rows × 8 columns</p>\n",
       "</div>"
      ],
      "text/plain": [
       "                           Solar  Wind Onshore  Renewable Total   Load_  \\\n",
       "Date                                                                      \n",
       "2021-05-11 00:00:00+02:00    0.0          30.0             30.0  3126.0   \n",
       "2021-05-11 01:00:00+02:00    0.0          30.0             30.0  2992.0   \n",
       "2021-05-11 02:00:00+02:00    0.0          26.0             26.0  2956.0   \n",
       "2021-05-11 03:00:00+02:00    0.0          23.0             23.0  2987.0   \n",
       "2021-05-11 04:00:00+02:00    0.0          25.0             25.0  3140.0   \n",
       "...                          ...           ...              ...     ...   \n",
       "2021-12-31 20:00:00+02:00    0.0         137.0            137.0  4790.0   \n",
       "2021-12-31 21:00:00+02:00    0.0         145.0            145.0  4343.0   \n",
       "2021-12-31 22:00:00+02:00    0.0         150.0            150.0  4196.0   \n",
       "2021-12-31 23:00:00+02:00    0.0         136.0            136.0  4147.0   \n",
       "2022-01-01 00:00:00+02:00    0.0         219.0            219.0  4181.0   \n",
       "\n",
       "                           Forecasted Load  Net_Position_BG  Solar_FC  \\\n",
       "Date                                                                    \n",
       "2021-05-11 00:00:00+02:00           3079.0              0.0       0.0   \n",
       "2021-05-11 01:00:00+02:00           2978.0              0.0       0.0   \n",
       "2021-05-11 02:00:00+02:00           2937.0              0.0       0.0   \n",
       "2021-05-11 03:00:00+02:00           2942.0              0.0       0.0   \n",
       "2021-05-11 04:00:00+02:00           3024.0              0.0       0.0   \n",
       "...                                    ...              ...       ...   \n",
       "2021-12-31 20:00:00+02:00           4839.0            744.0       0.0   \n",
       "2021-12-31 21:00:00+02:00           4602.0            756.0       0.0   \n",
       "2021-12-31 22:00:00+02:00           4558.0            700.0       0.0   \n",
       "2021-12-31 23:00:00+02:00           4355.0            737.0       0.0   \n",
       "2022-01-01 00:00:00+02:00           4351.0            811.0       0.0   \n",
       "\n",
       "                           Wind Onshore_FC  \n",
       "Date                                        \n",
       "2021-05-11 00:00:00+02:00              7.0  \n",
       "2021-05-11 01:00:00+02:00              4.0  \n",
       "2021-05-11 02:00:00+02:00              2.0  \n",
       "2021-05-11 03:00:00+02:00              1.0  \n",
       "2021-05-11 04:00:00+02:00              1.0  \n",
       "...                                    ...  \n",
       "2021-12-31 20:00:00+02:00            204.0  \n",
       "2021-12-31 21:00:00+02:00            211.0  \n",
       "2021-12-31 22:00:00+02:00            204.0  \n",
       "2021-12-31 23:00:00+02:00            157.0  \n",
       "2022-01-01 00:00:00+02:00            186.0  \n",
       "\n",
       "[5641 rows x 8 columns]"
      ]
     },
     "execution_count": 676,
     "metadata": {},
     "output_type": "execute_result"
    }
   ],
   "source": [
    "After_MC_X_test"
   ]
  },
  {
   "cell_type": "code",
   "execution_count": 677,
   "metadata": {},
   "outputs": [
    {
     "data": {
      "text/plain": [
       "Date\n",
       "2021-05-11 00:00:00+02:00    135.62\n",
       "2021-05-11 01:00:00+02:00    129.32\n",
       "2021-05-11 02:00:00+02:00    125.46\n",
       "2021-05-11 03:00:00+02:00    121.70\n",
       "2021-05-11 04:00:00+02:00    122.31\n",
       "                              ...  \n",
       "2021-12-31 20:00:00+02:00    221.01\n",
       "2021-12-31 21:00:00+02:00    205.37\n",
       "2021-12-31 22:00:00+02:00    194.35\n",
       "2021-12-31 23:00:00+02:00    205.38\n",
       "2022-01-01 00:00:00+02:00    113.39\n",
       "Name: Prices_BG, Length: 5641, dtype: float64"
      ]
     },
     "execution_count": 677,
     "metadata": {},
     "output_type": "execute_result"
    }
   ],
   "source": [
    "After_MC_y_test"
   ]
  },
  {
   "cell_type": "code",
   "execution_count": 678,
   "metadata": {},
   "outputs": [
    {
     "data": {
      "text/plain": [
       "array([135.62, 135.62, 135.62, ..., 135.62, 135.62, 135.62])"
      ]
     },
     "execution_count": 678,
     "metadata": {},
     "output_type": "execute_result"
    }
   ],
   "source": [
    "modelLR1.predict(After_MC_X_test)"
   ]
  },
  {
   "cell_type": "code",
   "execution_count": null,
   "metadata": {},
   "outputs": [],
   "source": []
  },
  {
   "cell_type": "code",
   "execution_count": null,
   "metadata": {},
   "outputs": [],
   "source": []
  },
  {
   "cell_type": "code",
   "execution_count": 679,
   "metadata": {},
   "outputs": [],
   "source": [
    "coef_df = pd.DataFrame()\n",
    "coef_df[\"Name\"] = Before_MC_X_train.columns\n",
    "coef_df[\"Coef\"] = modelLR.coef_\n",
    "coef_df.sort_values(by=\"Coef\",ascending=False,inplace=True)"
   ]
  },
  {
   "cell_type": "code",
   "execution_count": 680,
   "metadata": {},
   "outputs": [],
   "source": [
    "coef_sum = coef_df[\"Coef\"].sum()"
   ]
  },
  {
   "cell_type": "code",
   "execution_count": 681,
   "metadata": {},
   "outputs": [],
   "source": [
    "coef_df[\"Coef\"] = coef_df[\"Coef\"].apply(lambda x: x/coef_sum)"
   ]
  },
  {
   "cell_type": "code",
   "execution_count": 682,
   "metadata": {},
   "outputs": [
    {
     "data": {
      "text/plain": [
       "array([[-0.46325434],\n",
       "       [-0.1195403 ],\n",
       "       [-0.05819628],\n",
       "       [ 0.14611491],\n",
       "       [ 0.17719292],\n",
       "       [ 0.23538919],\n",
       "       [ 0.41177011],\n",
       "       [ 0.67052379]])"
      ]
     },
     "execution_count": 682,
     "metadata": {},
     "output_type": "execute_result"
    }
   ],
   "source": [
    "np.array(coef_df[\"Coef\"]).reshape(8,1)"
   ]
  },
  {
   "cell_type": "code",
   "execution_count": 683,
   "metadata": {},
   "outputs": [
    {
     "data": {
      "text/plain": [
       "StandardScaler()"
      ]
     },
     "execution_count": 683,
     "metadata": {},
     "output_type": "execute_result"
    }
   ],
   "source": [
    "scaler = StandardScaler()\n",
    "scaler.fit(np.array(coef_df[\"Coef\"]).reshape(8,1))"
   ]
  },
  {
   "cell_type": "code",
   "execution_count": 684,
   "metadata": {},
   "outputs": [],
   "source": [
    "coef_df[\"Coef\"]=scaler.transform(np.array(coef_df[\"Coef\"]).reshape(8,1))"
   ]
  },
  {
   "cell_type": "code",
   "execution_count": 685,
   "metadata": {},
   "outputs": [
    {
     "data": {
      "text/html": [
       "<div>\n",
       "<style scoped>\n",
       "    .dataframe tbody tr th:only-of-type {\n",
       "        vertical-align: middle;\n",
       "    }\n",
       "\n",
       "    .dataframe tbody tr th {\n",
       "        vertical-align: top;\n",
       "    }\n",
       "\n",
       "    .dataframe thead th {\n",
       "        text-align: right;\n",
       "    }\n",
       "</style>\n",
       "<table border=\"1\" class=\"dataframe\">\n",
       "  <thead>\n",
       "    <tr style=\"text-align: right;\">\n",
       "      <th></th>\n",
       "      <th>Name</th>\n",
       "      <th>Coef</th>\n",
       "    </tr>\n",
       "  </thead>\n",
       "  <tbody>\n",
       "    <tr>\n",
       "      <th>3</th>\n",
       "      <td>Load_</td>\n",
       "      <td>-1.821263</td>\n",
       "    </tr>\n",
       "    <tr>\n",
       "      <th>4</th>\n",
       "      <td>Forecasted Load</td>\n",
       "      <td>-0.757108</td>\n",
       "    </tr>\n",
       "    <tr>\n",
       "      <th>0</th>\n",
       "      <td>Solar</td>\n",
       "      <td>-0.567184</td>\n",
       "    </tr>\n",
       "    <tr>\n",
       "      <th>5</th>\n",
       "      <td>Net_Position_BG</td>\n",
       "      <td>0.065373</td>\n",
       "    </tr>\n",
       "    <tr>\n",
       "      <th>2</th>\n",
       "      <td>Renewable Total</td>\n",
       "      <td>0.161592</td>\n",
       "    </tr>\n",
       "    <tr>\n",
       "      <th>1</th>\n",
       "      <td>Wind Onshore</td>\n",
       "      <td>0.341770</td>\n",
       "    </tr>\n",
       "    <tr>\n",
       "      <th>6</th>\n",
       "      <td>Solar_FC</td>\n",
       "      <td>0.887854</td>\n",
       "    </tr>\n",
       "    <tr>\n",
       "      <th>7</th>\n",
       "      <td>Wind Onshore_FC</td>\n",
       "      <td>1.688968</td>\n",
       "    </tr>\n",
       "  </tbody>\n",
       "</table>\n",
       "</div>"
      ],
      "text/plain": [
       "              Name      Coef\n",
       "3            Load_ -1.821263\n",
       "4  Forecasted Load -0.757108\n",
       "0            Solar -0.567184\n",
       "5  Net_Position_BG  0.065373\n",
       "2  Renewable Total  0.161592\n",
       "1     Wind Onshore  0.341770\n",
       "6         Solar_FC  0.887854\n",
       "7  Wind Onshore_FC  1.688968"
      ]
     },
     "execution_count": 685,
     "metadata": {},
     "output_type": "execute_result"
    }
   ],
   "source": [
    "coef_df"
   ]
  },
  {
   "cell_type": "code",
   "execution_count": 686,
   "metadata": {},
   "outputs": [
    {
     "ename": "NameError",
     "evalue": "name 'CatBoostReBGessor' is not defined",
     "output_type": "error",
     "traceback": [
      "\u001b[0;31m---------------------------------------------------------------------------\u001b[0m",
      "\u001b[0;31mNameError\u001b[0m                                 Traceback (most recent call last)",
      "\u001b[0;32m/var/folders/t5/zlvtmt594d5f61dtdyb55m2c0000gn/T/ipykernel_24706/3636562929.py\u001b[0m in \u001b[0;36m<module>\u001b[0;34m\u001b[0m\n\u001b[0;32m----> 1\u001b[0;31m \u001b[0mmodelCat\u001b[0m \u001b[0;34m=\u001b[0m \u001b[0mCatBoostReBGessor\u001b[0m\u001b[0;34m(\u001b[0m\u001b[0;34m)\u001b[0m\u001b[0;34m\u001b[0m\u001b[0;34m\u001b[0m\u001b[0m\n\u001b[0m\u001b[1;32m      2\u001b[0m \u001b[0;34m\u001b[0m\u001b[0m\n\u001b[1;32m      3\u001b[0m \u001b[0mmodelCat\u001b[0m\u001b[0;34m.\u001b[0m\u001b[0mfit\u001b[0m\u001b[0;34m(\u001b[0m\u001b[0mBefore_MC_X_train\u001b[0m\u001b[0;34m,\u001b[0m\u001b[0mBefore_MC_y_train\u001b[0m\u001b[0;34m)\u001b[0m\u001b[0;34m\u001b[0m\u001b[0;34m\u001b[0m\u001b[0m\n\u001b[1;32m      4\u001b[0m \u001b[0mmodelCat\u001b[0m\u001b[0;34m.\u001b[0m\u001b[0mscore\u001b[0m\u001b[0;34m(\u001b[0m\u001b[0mBefore_MC_X_test\u001b[0m\u001b[0;34m,\u001b[0m\u001b[0mBefore_MC_y_test\u001b[0m\u001b[0;34m)\u001b[0m\u001b[0;34m\u001b[0m\u001b[0;34m\u001b[0m\u001b[0m\n",
      "\u001b[0;31mNameError\u001b[0m: name 'CatBoostReBGessor' is not defined"
     ]
    }
   ],
   "source": [
    "modelCat = CatBoostRegressor()\n",
    "\n",
    "modelCat.fit(Before_MC_X_train,Before_MC_y_train)\n",
    "modelCat.score(Before_MC_X_test,Before_MC_y_test)"
   ]
  },
  {
   "cell_type": "code",
   "execution_count": null,
   "metadata": {},
   "outputs": [
    {
     "data": {
      "text/plain": [
       "-2.6297774103403238"
      ]
     },
     "execution_count": 167,
     "metadata": {},
     "output_type": "execute_result"
    }
   ],
   "source": [
    "modelDTR = DecisionTreeRegressor()\n",
    "modelDTR.fit(Before_MC_X_train,Before_MC_y_train)\n",
    "modelDTR.score(Before_MC_X_test,Before_MC_y_test)"
   ]
  },
  {
   "cell_type": "code",
   "execution_count": null,
   "metadata": {},
   "outputs": [],
   "source": []
  }
 ],
 "metadata": {
  "kernelspec": {
   "display_name": "Python 3",
   "language": "python",
   "name": "python3"
  },
  "language_info": {
   "codemirror_mode": {
    "name": "ipython",
    "version": 3
   },
   "file_extension": ".py",
   "mimetype": "text/x-python",
   "name": "python",
   "nbconvert_exporter": "python",
   "pygments_lexer": "ipython3",
   "version": "3.8.8"
  }
 },
 "nbformat": 4,
 "nbformat_minor": 4
}
