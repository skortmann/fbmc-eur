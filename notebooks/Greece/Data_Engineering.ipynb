{
 "cells": [
  {
   "cell_type": "code",
   "execution_count": 117,
   "metadata": {},
   "outputs": [],
   "source": [
    "import pandas as pd\n",
    "import numpy as np\n",
    "import matplotlib.pyplot as plt\n",
    "import seaborn as sns\n",
    "import warnings\n",
    "pd.set_option('display.max_columns', None)\n",
    "warnings.filterwarnings(\"ignore\")\n",
    "from tslearn.clustering import TimeSeriesKMeans, KShape\n",
    "from tslearn.datasets import CachedDatasets\n",
    "from tslearn.preprocessing import TimeSeriesScalerMeanVariance, \\\n",
    "    TimeSeriesResampler\n",
    "from sklearn.ensemble import RandomForestRegressor, GradientBoostingRegressor\n",
    "from sklearn.linear_model import LinearRegression, Lasso, Ridge, ElasticNet, SGDRegressor\n",
    "from sklearn.svm import SVR, LinearSVR\n",
    "from sklearn.neighbors import KNeighborsRegressor\n",
    "from sklearn.metrics import mean_squared_error, mean_absolute_error, r2_score\n",
    "from catboost import CatBoostRegressor\n",
    "from sklearn.cluster import KMeans\n",
    "from kneed import DataGenerator, KneeLocator\n",
    "from datetime import timedelta, datetime"
   ]
  },
  {
   "cell_type": "code",
   "execution_count": 118,
   "metadata": {},
   "outputs": [],
   "source": [
    "GenerationBG = pd.read_csv(\"BG_20140101_20220101_Load_Generation.csv\")"
   ]
  },
  {
   "cell_type": "code",
   "execution_count": 119,
   "metadata": {},
   "outputs": [],
   "source": [
    "DR = pd.date_range(start=GenerationBG.Date.min(),end=GenerationBG.Date.max(),freq=\"60T\")"
   ]
  },
  {
   "cell_type": "code",
   "execution_count": 120,
   "metadata": {},
   "outputs": [],
   "source": [
    "GenerationBG = pd.read_csv(\"BG_20140101_20220101_Load_Generation.csv\")\n",
    "GenerationBG.drop(0,inplace=True)\n",
    "GenerationBG.drop(\"Unnamed: 0\",axis=1,inplace=True)\n",
    "GenerationBG['Date'] = pd.to_datetime(GenerationBG['Date'],utc=True)\n",
    "GenerationBG[[i for i in GenerationBG.columns if \"Date\" not in i]] = GenerationBG[[i for i in GenerationBG.columns if \"Date\" not in i]].astype(float)\n",
    "GenerationBG1 = GenerationBG[[\"Date\",\"Solar\",\"Wind Onshore\"]]\n",
    "GenerationBG1[\"Renewable Total\"] = GenerationBG1[\"Solar\"] + GenerationBG1[\"Wind Onshore\"]\n",
    "GenerationBG1 = GenerationBG1.set_index(\"Date\").reindex(DR)"
   ]
  },
  {
   "cell_type": "code",
   "execution_count": 121,
   "metadata": {},
   "outputs": [],
   "source": [
    "Load_BG = pd.read_feather(\"BG_20140101_20220101_Load.feather\")\n",
    "Load_BG1=Load_BG.set_index(\"Date\").reindex(DR)"
   ]
  },
  {
   "cell_type": "code",
   "execution_count": 122,
   "metadata": {},
   "outputs": [],
   "source": [
    "Day_ahead_price_BG = pd.read_feather(\"BG_20140101_20220101_DayAheadPrices.feather\")\n",
    "Day_ahead_price_BG1 = Day_ahead_price_BG.set_index(\"Date\").reindex(DR)"
   ]
  },
  {
   "cell_type": "code",
   "execution_count": 123,
   "metadata": {},
   "outputs": [],
   "source": [
    "Load_Forecast_BG = pd.read_feather(\"BG_20140101_20220101_Load_Forecast.feather\")\n",
    "Load_Forecast_BG1 = Load_Forecast_BG.set_index(\"Date\").reindex(DR)"
   ]
  },
  {
   "cell_type": "code",
   "execution_count": 124,
   "metadata": {},
   "outputs": [],
   "source": [
    "Net_position_BG = pd.read_feather(\"BG_20140101_20220101_Net_Position.feather\")\n",
    "Net_position_BG1 = Net_position_BG.set_index(\"Date\").reindex(DR)"
   ]
  },
  {
   "cell_type": "code",
   "execution_count": 125,
   "metadata": {},
   "outputs": [],
   "source": [
    "SW_forecast_BG = pd.read_feather(\"BG_20140101_20220101_SW_Forecast.feather\")\n",
    "SW_forecast_BG1 = SW_forecast_BG.set_index(\"Date\").reindex(DR)\n",
    "SW_forecast_BG1 = SW_forecast_BG1.add_suffix(\"_FC\")"
   ]
  },
  {
   "cell_type": "code",
   "execution_count": 126,
   "metadata": {},
   "outputs": [],
   "source": [
    "Total_BG = pd.concat([GenerationBG1,Load_BG1,Day_ahead_price_BG1,Load_Forecast_BG1,Net_position_BG1,SW_forecast_BG1],axis=1)"
   ]
  },
  {
   "cell_type": "code",
   "execution_count": 127,
   "metadata": {},
   "outputs": [],
   "source": [
    "# Total_BG = Total_BG.interpolate(method='linear', limit_direction='forward', axis=1)\n",
    "# Total_BG = Total_BG.fillna(0)"
   ]
  },
  {
   "cell_type": "code",
   "execution_count": 128,
   "metadata": {},
   "outputs": [],
   "source": [
    "Total_BG.reset_index(inplace=True)"
   ]
  },
  {
   "cell_type": "code",
   "execution_count": 129,
   "metadata": {},
   "outputs": [],
   "source": [
    "Total_BG.rename({\"index\":\"Date\"},axis=1,inplace=True)"
   ]
  },
  {
   "cell_type": "code",
   "execution_count": 130,
   "metadata": {},
   "outputs": [
    {
     "data": {
      "text/html": [
       "<div>\n",
       "<style scoped>\n",
       "    .dataframe tbody tr th:only-of-type {\n",
       "        vertical-align: middle;\n",
       "    }\n",
       "\n",
       "    .dataframe tbody tr th {\n",
       "        vertical-align: top;\n",
       "    }\n",
       "\n",
       "    .dataframe thead th {\n",
       "        text-align: right;\n",
       "    }\n",
       "</style>\n",
       "<table border=\"1\" class=\"dataframe\">\n",
       "  <thead>\n",
       "    <tr style=\"text-align: right;\">\n",
       "      <th></th>\n",
       "      <th>Date</th>\n",
       "      <th>Solar</th>\n",
       "      <th>Wind Onshore</th>\n",
       "      <th>Renewable Total</th>\n",
       "      <th>Load_</th>\n",
       "      <th>Prices_BG</th>\n",
       "      <th>Forecasted Load</th>\n",
       "      <th>Net_Position_BG</th>\n",
       "      <th>Solar_FC</th>\n",
       "      <th>Wind Onshore_FC</th>\n",
       "    </tr>\n",
       "  </thead>\n",
       "  <tbody>\n",
       "    <tr>\n",
       "      <th>0</th>\n",
       "      <td>2020-01-01 01:00:00+02:00</td>\n",
       "      <td>0.0</td>\n",
       "      <td>0.0</td>\n",
       "      <td>0.0</td>\n",
       "      <td>4243.0</td>\n",
       "      <td>76.26</td>\n",
       "      <td>4444.0</td>\n",
       "      <td>2222.0</td>\n",
       "      <td>0.0</td>\n",
       "      <td>362.0</td>\n",
       "    </tr>\n",
       "    <tr>\n",
       "      <th>1</th>\n",
       "      <td>2020-01-01 02:00:00+02:00</td>\n",
       "      <td>0.0</td>\n",
       "      <td>323.0</td>\n",
       "      <td>323.0</td>\n",
       "      <td>4063.0</td>\n",
       "      <td>68.57</td>\n",
       "      <td>4234.0</td>\n",
       "      <td>2117.0</td>\n",
       "      <td>0.0</td>\n",
       "      <td>318.0</td>\n",
       "    </tr>\n",
       "    <tr>\n",
       "      <th>2</th>\n",
       "      <td>2020-01-01 03:00:00+02:00</td>\n",
       "      <td>0.0</td>\n",
       "      <td>306.0</td>\n",
       "      <td>306.0</td>\n",
       "      <td>3924.0</td>\n",
       "      <td>58.99</td>\n",
       "      <td>4064.0</td>\n",
       "      <td>2032.0</td>\n",
       "      <td>0.0</td>\n",
       "      <td>370.0</td>\n",
       "    </tr>\n",
       "    <tr>\n",
       "      <th>3</th>\n",
       "      <td>2020-01-01 04:00:00+02:00</td>\n",
       "      <td>0.0</td>\n",
       "      <td>351.0</td>\n",
       "      <td>351.0</td>\n",
       "      <td>3838.0</td>\n",
       "      <td>52.51</td>\n",
       "      <td>3942.0</td>\n",
       "      <td>1971.0</td>\n",
       "      <td>0.0</td>\n",
       "      <td>404.0</td>\n",
       "    </tr>\n",
       "    <tr>\n",
       "      <th>4</th>\n",
       "      <td>2020-01-01 05:00:00+02:00</td>\n",
       "      <td>0.0</td>\n",
       "      <td>431.0</td>\n",
       "      <td>431.0</td>\n",
       "      <td>3795.0</td>\n",
       "      <td>57.23</td>\n",
       "      <td>3882.0</td>\n",
       "      <td>1941.0</td>\n",
       "      <td>0.0</td>\n",
       "      <td>423.0</td>\n",
       "    </tr>\n",
       "    <tr>\n",
       "      <th>...</th>\n",
       "      <td>...</td>\n",
       "      <td>...</td>\n",
       "      <td>...</td>\n",
       "      <td>...</td>\n",
       "      <td>...</td>\n",
       "      <td>...</td>\n",
       "      <td>...</td>\n",
       "      <td>...</td>\n",
       "      <td>...</td>\n",
       "      <td>...</td>\n",
       "    </tr>\n",
       "    <tr>\n",
       "      <th>17539</th>\n",
       "      <td>2021-12-31 20:00:00+02:00</td>\n",
       "      <td>0.0</td>\n",
       "      <td>137.0</td>\n",
       "      <td>137.0</td>\n",
       "      <td>4790.0</td>\n",
       "      <td>221.01</td>\n",
       "      <td>4839.0</td>\n",
       "      <td>744.0</td>\n",
       "      <td>0.0</td>\n",
       "      <td>204.0</td>\n",
       "    </tr>\n",
       "    <tr>\n",
       "      <th>17540</th>\n",
       "      <td>2021-12-31 21:00:00+02:00</td>\n",
       "      <td>0.0</td>\n",
       "      <td>145.0</td>\n",
       "      <td>145.0</td>\n",
       "      <td>4343.0</td>\n",
       "      <td>205.37</td>\n",
       "      <td>4602.0</td>\n",
       "      <td>756.0</td>\n",
       "      <td>0.0</td>\n",
       "      <td>211.0</td>\n",
       "    </tr>\n",
       "    <tr>\n",
       "      <th>17541</th>\n",
       "      <td>2021-12-31 22:00:00+02:00</td>\n",
       "      <td>0.0</td>\n",
       "      <td>150.0</td>\n",
       "      <td>150.0</td>\n",
       "      <td>4196.0</td>\n",
       "      <td>194.35</td>\n",
       "      <td>4558.0</td>\n",
       "      <td>700.0</td>\n",
       "      <td>0.0</td>\n",
       "      <td>204.0</td>\n",
       "    </tr>\n",
       "    <tr>\n",
       "      <th>17542</th>\n",
       "      <td>2021-12-31 23:00:00+02:00</td>\n",
       "      <td>0.0</td>\n",
       "      <td>136.0</td>\n",
       "      <td>136.0</td>\n",
       "      <td>4147.0</td>\n",
       "      <td>205.38</td>\n",
       "      <td>4355.0</td>\n",
       "      <td>737.0</td>\n",
       "      <td>0.0</td>\n",
       "      <td>157.0</td>\n",
       "    </tr>\n",
       "    <tr>\n",
       "      <th>17543</th>\n",
       "      <td>2022-01-01 00:00:00+02:00</td>\n",
       "      <td>0.0</td>\n",
       "      <td>219.0</td>\n",
       "      <td>219.0</td>\n",
       "      <td>4181.0</td>\n",
       "      <td>113.39</td>\n",
       "      <td>4351.0</td>\n",
       "      <td>811.0</td>\n",
       "      <td>0.0</td>\n",
       "      <td>186.0</td>\n",
       "    </tr>\n",
       "  </tbody>\n",
       "</table>\n",
       "<p>17544 rows × 10 columns</p>\n",
       "</div>"
      ],
      "text/plain": [
       "                           Date  Solar  Wind Onshore  Renewable Total   Load_  \\\n",
       "0     2020-01-01 01:00:00+02:00    0.0           0.0              0.0  4243.0   \n",
       "1     2020-01-01 02:00:00+02:00    0.0         323.0            323.0  4063.0   \n",
       "2     2020-01-01 03:00:00+02:00    0.0         306.0            306.0  3924.0   \n",
       "3     2020-01-01 04:00:00+02:00    0.0         351.0            351.0  3838.0   \n",
       "4     2020-01-01 05:00:00+02:00    0.0         431.0            431.0  3795.0   \n",
       "...                         ...    ...           ...              ...     ...   \n",
       "17539 2021-12-31 20:00:00+02:00    0.0         137.0            137.0  4790.0   \n",
       "17540 2021-12-31 21:00:00+02:00    0.0         145.0            145.0  4343.0   \n",
       "17541 2021-12-31 22:00:00+02:00    0.0         150.0            150.0  4196.0   \n",
       "17542 2021-12-31 23:00:00+02:00    0.0         136.0            136.0  4147.0   \n",
       "17543 2022-01-01 00:00:00+02:00    0.0         219.0            219.0  4181.0   \n",
       "\n",
       "       Prices_BG  Forecasted Load  Net_Position_BG  Solar_FC  Wind Onshore_FC  \n",
       "0          76.26           4444.0           2222.0       0.0            362.0  \n",
       "1          68.57           4234.0           2117.0       0.0            318.0  \n",
       "2          58.99           4064.0           2032.0       0.0            370.0  \n",
       "3          52.51           3942.0           1971.0       0.0            404.0  \n",
       "4          57.23           3882.0           1941.0       0.0            423.0  \n",
       "...          ...              ...              ...       ...              ...  \n",
       "17539     221.01           4839.0            744.0       0.0            204.0  \n",
       "17540     205.37           4602.0            756.0       0.0            211.0  \n",
       "17541     194.35           4558.0            700.0       0.0            204.0  \n",
       "17542     205.38           4355.0            737.0       0.0            157.0  \n",
       "17543     113.39           4351.0            811.0       0.0            186.0  \n",
       "\n",
       "[17544 rows x 10 columns]"
      ]
     },
     "execution_count": 130,
     "metadata": {},
     "output_type": "execute_result"
    }
   ],
   "source": [
    "Total_BG"
   ]
  },
  {
   "cell_type": "code",
   "execution_count": null,
   "metadata": {},
   "outputs": [],
   "source": []
  },
  {
   "cell_type": "code",
   "execution_count": 131,
   "metadata": {},
   "outputs": [],
   "source": [
    "Total_BG.to_feather(\"Total_BG.feather\")"
   ]
  },
  {
   "cell_type": "code",
   "execution_count": null,
   "metadata": {},
   "outputs": [],
   "source": []
  }
 ],
 "metadata": {
  "kernelspec": {
   "display_name": "Python 3",
   "language": "python",
   "name": "python3"
  },
  "language_info": {
   "codemirror_mode": {
    "name": "ipython",
    "version": 3
   },
   "file_extension": ".py",
   "mimetype": "text/x-python",
   "name": "python",
   "nbconvert_exporter": "python",
   "pygments_lexer": "ipython3",
   "version": "3.8.8"
  }
 },
 "nbformat": 4,
 "nbformat_minor": 4
}
